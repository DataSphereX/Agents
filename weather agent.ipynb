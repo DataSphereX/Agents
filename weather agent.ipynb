{
 "cells": [
  {
   "cell_type": "code",
   "execution_count": 21,
   "metadata": {},
   "outputs": [
    {
     "name": "stdout",
     "output_type": "stream",
     "text": [
      "The current weather in Chennai is: Few clouds with a temperature of 27.82°C\n"
     ]
    }
   ],
   "source": [
    "# Code Agent Example: Retrieve Weather Information\n",
    "def get_weather(city):\n",
    "    import requests\n",
    "    api_key = \"196739a590f50b282f423aead9e0ff61\"  # Your newly generated API key from OpenWeatherMap\n",
    "    \n",
    "    api_url = f\"https://api.openweathermap.org/data/2.5/weather?q={city}&appid={api_key}&units=metric\"\n",
    "    \n",
    "    response = requests.get(api_url)\n",
    "    \n",
    "    if response.status_code == 200:\n",
    "        data = response.json()\n",
    "        weather_description = data['weather'][0]['description']\n",
    "        temperature = data['main']['temp']\n",
    "        return f\"{weather_description.capitalize()} with a temperature of {temperature}°C\"\n",
    "    else:\n",
    "        print(f\"Error: Unable to fetch weather data. Status code: {response.status_code}\")\n",
    "        print(f\"Response content: {response.content}\")\n",
    "        return \"Error: Unable to fetch weather data.\"\n",
    "\n",
    "# Execute the function and prepare the final answer\n",
    "result = get_weather(\"Chennai\")\n",
    "final_answer = f\"The current weather in Chennai is: {result}\"\n",
    "print(final_answer)"
   ]
  }
 ],
 "metadata": {
  "kernelspec": {
   "display_name": "base",
   "language": "python",
   "name": "python3"
  },
  "language_info": {
   "codemirror_mode": {
    "name": "ipython",
    "version": 3
   },
   "file_extension": ".py",
   "mimetype": "text/x-python",
   "name": "python",
   "nbconvert_exporter": "python",
   "pygments_lexer": "ipython3",
   "version": "3.11.5"
  }
 },
 "nbformat": 4,
 "nbformat_minor": 2
}
